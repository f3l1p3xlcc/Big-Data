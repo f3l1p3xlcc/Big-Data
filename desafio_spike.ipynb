{
  "nbformat": 4,
  "nbformat_minor": 0,
  "metadata": {
    "colab": {
      "name": "desafio_spike_0.7.ipynb",
      "provenance": [],
      "collapsed_sections": []
    },
    "kernelspec": {
      "name": "python3",
      "display_name": "Python 3"
    },
    "language_info": {
      "name": "python"
    }
  },
  "cells": [
    {
      "cell_type": "markdown",
      "metadata": {
        "id": "kJv6_kRm_-5e"
      },
      "source": [
        "Desafío Spike\n",
        "\n"
      ]
    },
    {
      "cell_type": "code",
      "metadata": {
        "id": "87pksDYRAIJF"
      },
      "source": [
        "from google.colab import drive\n",
        "import pandas as pd\n",
        "import matplotlib.pyplot as plt\n",
        "from sklearn.linear_model import LinearRegression\n",
        "import numpy as np\n",
        "from sklearn.model_selection import train_test_split\n",
        "from datetime import datetime, timedelta\n",
        "from time import strptime"
      ],
      "execution_count": 54,
      "outputs": []
    },
    {
      "cell_type": "markdown",
      "metadata": {
        "id": "jjSxn3WrZV3j"
      },
      "source": [
        "1. Datos: Precipitaciones, Indicadores Económicos Banco Central\n"
      ]
    },
    {
      "cell_type": "markdown",
      "metadata": {
        "id": "0ixsw9ALdZAB"
      },
      "source": [
        "• Cargar archivo precipitaciones.csv con las precipitaciones medias mensuales\n",
        "registradas entre enero 1979 y abril 2020. (Unidad: mm).\n",
        " \n",
        "• Cargar archivo banco_central.csv con variables económicas."
      ]
    },
    {
      "cell_type": "code",
      "metadata": {
        "colab": {
          "base_uri": "https://localhost:8080/"
        },
        "id": "W74M81VSSB3C",
        "outputId": "3af02940-16ed-44c3-c6bd-5bbc539604cf"
      },
      "source": [
        "drive.mount('/content/gdrive')"
      ],
      "execution_count": 55,
      "outputs": [
        {
          "output_type": "stream",
          "text": [
            "Drive already mounted at /content/gdrive; to attempt to forcibly remount, call drive.mount(\"/content/gdrive\", force_remount=True).\n"
          ],
          "name": "stdout"
        }
      ]
    },
    {
      "cell_type": "code",
      "metadata": {
        "colab": {
          "base_uri": "https://localhost:8080/"
        },
        "id": "KjJqYLCDRolJ",
        "outputId": "f0b56b31-7b88-4ec9-a59f-215113a409a7"
      },
      "source": [
        "!ls \"/content/gdrive/MyDrive/dataspike\""
      ],
      "execution_count": 56,
      "outputs": [
        {
          "output_type": "stream",
          "text": [
            "banco_central.csv  precipitaciones.csv\t    result2.csv\n",
            "precio_leche.csv   precipitaciones_ord.csv\n"
          ],
          "name": "stdout"
        }
      ]
    },
    {
      "cell_type": "code",
      "metadata": {
        "colab": {
          "base_uri": "https://localhost:8080/"
        },
        "id": "yLaJV6dvSHEw",
        "outputId": "7a31a2de-ad64-4dde-d9e6-18659b08ea23"
      },
      "source": [
        "df_precipitaciones_ord = pd.read_csv (r'/content/gdrive/MyDrive/dataspike/precipitaciones_ord.csv')\n",
        "print(df_precipitaciones_ord)"
      ],
      "execution_count": 57,
      "outputs": [
        {
          "output_type": "stream",
          "text": [
            "          date   Coquimbo  Valparaiso  ...      Biobio  La_Araucania    Los_Rios\n",
            "0   2013-01-01  10.155732    9.476023  ...   10.610359     21.286717   36.419186\n",
            "1   2013-02-01   2.662333    3.329740  ...   49.439734     84.571386  161.760892\n",
            "2   2013-03-01   0.282052    2.228588  ...   11.977028     36.493313   73.323954\n",
            "3   2013-04-01   0.142111    1.629529  ...   42.941649     95.051980  176.105375\n",
            "4   2013-05-01  59.775399  114.732581  ...  288.971343    289.062544  380.996731\n",
            "..         ...        ...         ...  ...         ...           ...         ...\n",
            "83  2019-12-01   0.287895    0.165390  ...   14.014122     27.321858   62.170090\n",
            "84  2020-01-01   3.299797    2.003685  ...   19.518225     35.916618   63.389625\n",
            "85  2020-02-01   0.179216    0.003701  ...   10.108504     29.001988   55.838889\n",
            "86  2020-03-01   0.003451    0.000666  ...   12.462699     28.310937   73.640866\n",
            "87  2020-04-01   0.556085    4.664708  ...   66.764275     73.813290  140.076757\n",
            "\n",
            "[88 rows x 9 columns]\n"
          ],
          "name": "stdout"
        }
      ]
    },
    {
      "cell_type": "code",
      "metadata": {
        "colab": {
          "base_uri": "https://localhost:8080/",
          "height": 508
        },
        "id": "08Tf2JTYvHzU",
        "outputId": "df4b581d-820e-48cf-e3df-c0cfcc2c70e8"
      },
      "source": [
        "df_banco = pd.read_csv (r'/content/gdrive/MyDrive/dataspike/banco_central.csv')\n",
        "df_banco['Periodo'] = df_banco['Periodo'].str.slice(0, 10)\n",
        "\n",
        "df_banco1 = df_banco.head(88)\n",
        "\n",
        "for column in df_banco1:\n",
        "  if column != 'Periodo':\n",
        "    for ind in df_banco1.index:\n",
        "      if isinstance(df_banco1[column][ind], str):\n",
        "        a = df_banco1[column][ind].split(\".\")\n",
        "        df_banco1[column][ind] = float(a[0])\n",
        "\n",
        "df_banco1.head()\n"
      ],
      "execution_count": 58,
      "outputs": [
        {
          "output_type": "stream",
          "text": [
            "/usr/local/lib/python3.7/dist-packages/ipykernel_launcher.py:11: SettingWithCopyWarning: \n",
            "A value is trying to be set on a copy of a slice from a DataFrame\n",
            "\n",
            "See the caveats in the documentation: https://pandas.pydata.org/pandas-docs/stable/user_guide/indexing.html#returning-a-view-versus-a-copy\n",
            "  # This is added back by InteractiveShellApp.init_path()\n",
            "/usr/local/lib/python3.7/dist-packages/IPython/core/interactiveshell.py:2882: SettingWithCopyWarning: \n",
            "A value is trying to be set on a copy of a slice from a DataFrame\n",
            "\n",
            "See the caveats in the documentation: https://pandas.pydata.org/pandas-docs/stable/user_guide/indexing.html#returning-a-view-versus-a-copy\n",
            "  exec(code_obj, self.user_global_ns, self.user_ns)\n"
          ],
          "name": "stderr"
        },
        {
          "output_type": "execute_result",
          "data": {
            "text/html": [
              "<div>\n",
              "<style scoped>\n",
              "    .dataframe tbody tr th:only-of-type {\n",
              "        vertical-align: middle;\n",
              "    }\n",
              "\n",
              "    .dataframe tbody tr th {\n",
              "        vertical-align: top;\n",
              "    }\n",
              "\n",
              "    .dataframe thead th {\n",
              "        text-align: right;\n",
              "    }\n",
              "</style>\n",
              "<table border=\"1\" class=\"dataframe\">\n",
              "  <thead>\n",
              "    <tr style=\"text-align: right;\">\n",
              "      <th></th>\n",
              "      <th>Periodo</th>\n",
              "      <th>Imacec_empalmado</th>\n",
              "      <th>Imacec_produccion_de_bienes</th>\n",
              "      <th>Imacec_minero</th>\n",
              "      <th>Imacec_industria</th>\n",
              "      <th>Imacec_resto_de_bienes</th>\n",
              "      <th>Imacec_comercio</th>\n",
              "      <th>Imacec_servicios</th>\n",
              "      <th>Imacec_a_costo_de_factores</th>\n",
              "      <th>Imacec_no_minero</th>\n",
              "      <th>PIB_Agropecuario_silvicola</th>\n",
              "      <th>PIB_Pesca</th>\n",
              "      <th>PIB_Mineria</th>\n",
              "      <th>PIB_Mineria_del_cobre</th>\n",
              "      <th>PIB_Otras_actividades_mineras</th>\n",
              "      <th>PIB_Industria_Manufacturera</th>\n",
              "      <th>PIB_Alimentos</th>\n",
              "      <th>PIB_Bebidas_y_tabaco</th>\n",
              "      <th>PIB_Textil</th>\n",
              "      <th>PIB_Maderas_y_muebles</th>\n",
              "      <th>PIB_Celulosa</th>\n",
              "      <th>PIB_Refinacion_de_petroleo</th>\n",
              "      <th>PIB_Quimica</th>\n",
              "      <th>PIB_Minerales_no_metalicos_y_metalica_basica</th>\n",
              "      <th>PIB_Productos_metalicos</th>\n",
              "      <th>PIB_Electricidad</th>\n",
              "      <th>PIB_Construccion</th>\n",
              "      <th>PIB_Comercio</th>\n",
              "      <th>PIB_Restaurantes_y_hoteles</th>\n",
              "      <th>PIB_Transporte</th>\n",
              "      <th>PIB_Comunicaciones</th>\n",
              "      <th>PIB_Servicios_financieros</th>\n",
              "      <th>PIB_Servicios_empresariales</th>\n",
              "      <th>PIB_Servicios_de_vivienda</th>\n",
              "      <th>PIB_Servicios_personales</th>\n",
              "      <th>PIB_Administracion_publica</th>\n",
              "      <th>PIB_a_costo_de_factores</th>\n",
              "      <th>Impuesto_al_valor_agregado</th>\n",
              "      <th>Derechos_de_Importacion</th>\n",
              "      <th>PIB</th>\n",
              "      <th>...</th>\n",
              "      <th>Precio_del_gas_natural_dolaresmillon_de_unidades_termicas_britanicas</th>\n",
              "      <th>Precio_del_petroleo_Brent_dolaresbarril</th>\n",
              "      <th>Precio_del_kerosene_dolaresm3</th>\n",
              "      <th>Precio_del_petroleo_WTI_dolaresbarril</th>\n",
              "      <th>Precio_del_propano_centavos_de_dolargalon_DTN</th>\n",
              "      <th>Tipo_de_cambio_del_dolar_observado_diario</th>\n",
              "      <th>Ocupados</th>\n",
              "      <th>Ocupacion_en_Agricultura_INE</th>\n",
              "      <th>Ocupacion_en_Explotacion_de_minas_y_canteras_INE</th>\n",
              "      <th>Ocupacion_en_Industrias_manufactureras_INE</th>\n",
              "      <th>Ocupacion_en_Suministro_de_electricidad_INE</th>\n",
              "      <th>Ocupacion_en_Actividades_de_servicios_administrativos_y_de_apoyo_INE</th>\n",
              "      <th>Ocupacion_en_Actividades_profesionales_INE</th>\n",
              "      <th>Ocupacion_en_Actividades_inmobiliarias_INE</th>\n",
              "      <th>Ocupacion_en_Actividades_financieras_y_de_seguros_INE</th>\n",
              "      <th>Ocupacion_en_Informacion_y_comunicaciones_INE</th>\n",
              "      <th>Ocupacion_en_Transporte_y_almacenamiento_INE</th>\n",
              "      <th>Ocupacion_en_Actividades_de_alojamiento_y_de_servicio_de_comidas_INE</th>\n",
              "      <th>Ocupacion_en_Construccion_INE</th>\n",
              "      <th>Ocupacion_en_Comercio_INE</th>\n",
              "      <th>Ocupacion_en_Suministro_de_agua_evacuacion_de_aguas_residuales_INE</th>\n",
              "      <th>Ocupacion_en_Administracion_publica_y_defensa_INE</th>\n",
              "      <th>Ocupacion_en_Enseanza_INE</th>\n",
              "      <th>Ocupacion_en_Actividades_de_atencion_de_la_salud_humana_y_de_asistencia_social_INE</th>\n",
              "      <th>Ocupacion_en_Actividades_artisticas_INE</th>\n",
              "      <th>Ocupacion_en_Otras_actividades_de_servicios_INE</th>\n",
              "      <th>Ocupacion_en_Actividades_de_los_hogares_como_empleadores_INE</th>\n",
              "      <th>Ocupacion_en_Actividades_de_organizaciones_y_organos_extraterritoriales_INE</th>\n",
              "      <th>No_sabe__No_responde_Miles_de_personas</th>\n",
              "      <th>Tipo_de_cambio_nominal_multilateral___TCM</th>\n",
              "      <th>Indice_de_tipo_de_cambio_real___TCR_promedio_1986_100</th>\n",
              "      <th>Indice_de_produccion_industrial</th>\n",
              "      <th>Indice_de_produccion_industrial__mineria</th>\n",
              "      <th>Indice_de_produccion_industrial_electricidad__gas_y_agua</th>\n",
              "      <th>Indice_de_produccion_industrial__manufacturera</th>\n",
              "      <th>Generacion_de_energia_electrica_CDEC_GWh</th>\n",
              "      <th>Indice_de_ventas_comercio_real_IVCM</th>\n",
              "      <th>Indice_de_ventas_comercio_real_no_durables_IVCM</th>\n",
              "      <th>Indice_de_ventas_comercio_real_durables_IVCM</th>\n",
              "      <th>Ventas_autos_nuevos</th>\n",
              "    </tr>\n",
              "  </thead>\n",
              "  <tbody>\n",
              "    <tr>\n",
              "      <th>0</th>\n",
              "      <td>2013-03-01</td>\n",
              "      <td>102</td>\n",
              "      <td>10</td>\n",
              "      <td>978</td>\n",
              "      <td>102</td>\n",
              "      <td>114</td>\n",
              "      <td>110</td>\n",
              "      <td>100</td>\n",
              "      <td>103</td>\n",
              "      <td>103</td>\n",
              "      <td>579</td>\n",
              "      <td>570</td>\n",
              "      <td>123</td>\n",
              "      <td>110</td>\n",
              "      <td>131</td>\n",
              "      <td>130</td>\n",
              "      <td>367</td>\n",
              "      <td>162</td>\n",
              "      <td>330</td>\n",
              "      <td>643</td>\n",
              "      <td>974</td>\n",
              "      <td>103</td>\n",
              "      <td>184</td>\n",
              "      <td>807</td>\n",
              "      <td>212</td>\n",
              "      <td>301</td>\n",
              "      <td>710</td>\n",
              "      <td>115</td>\n",
              "      <td>202</td>\n",
              "      <td>546</td>\n",
              "      <td>337</td>\n",
              "      <td>5</td>\n",
              "      <td>11</td>\n",
              "      <td>793</td>\n",
              "      <td>140</td>\n",
              "      <td>512</td>\n",
              "      <td>108</td>\n",
              "      <td>896</td>\n",
              "      <td>659</td>\n",
              "      <td>118</td>\n",
              "      <td>...</td>\n",
              "      <td>3.8117</td>\n",
              "      <td>109.24</td>\n",
              "      <td>76</td>\n",
              "      <td>92.91</td>\n",
              "      <td>89.171</td>\n",
              "      <td>472</td>\n",
              "      <td>799</td>\n",
              "      <td>798</td>\n",
              "      <td>258</td>\n",
              "      <td>901</td>\n",
              "      <td>360</td>\n",
              "      <td>18</td>\n",
              "      <td>229</td>\n",
              "      <td>547</td>\n",
              "      <td>19</td>\n",
              "      <td>155</td>\n",
              "      <td>498</td>\n",
              "      <td>341</td>\n",
              "      <td>682</td>\n",
              "      <td>151</td>\n",
              "      <td>349</td>\n",
              "      <td>445</td>\n",
              "      <td>587</td>\n",
              "      <td>362</td>\n",
              "      <td>82</td>\n",
              "      <td>201</td>\n",
              "      <td>416</td>\n",
              "      <td>190</td>\n",
              "      <td>NaN</td>\n",
              "      <td>93</td>\n",
              "      <td>865</td>\n",
              "      <td>102</td>\n",
              "      <td>98</td>\n",
              "      <td>NaN</td>\n",
              "      <td>108</td>\n",
              "      <td>580</td>\n",
              "      <td>NaN</td>\n",
              "      <td>NaN</td>\n",
              "      <td>NaN</td>\n",
              "      <td>28577.0</td>\n",
              "    </tr>\n",
              "    <tr>\n",
              "      <th>1</th>\n",
              "      <td>2013-04-01</td>\n",
              "      <td>101</td>\n",
              "      <td>999</td>\n",
              "      <td>927</td>\n",
              "      <td>104</td>\n",
              "      <td>102</td>\n",
              "      <td>106</td>\n",
              "      <td>102</td>\n",
              "      <td>101</td>\n",
              "      <td>102</td>\n",
              "      <td>374</td>\n",
              "      <td>606</td>\n",
              "      <td>11</td>\n",
              "      <td>10</td>\n",
              "      <td>134</td>\n",
              "      <td>133</td>\n",
              "      <td>38</td>\n",
              "      <td>188</td>\n",
              "      <td>380</td>\n",
              "      <td>684</td>\n",
              "      <td>945</td>\n",
              "      <td>824</td>\n",
              "      <td>172</td>\n",
              "      <td>831</td>\n",
              "      <td>224</td>\n",
              "      <td>280</td>\n",
              "      <td>749</td>\n",
              "      <td>110</td>\n",
              "      <td>209</td>\n",
              "      <td>544</td>\n",
              "      <td>348</td>\n",
              "      <td>565</td>\n",
              "      <td>121</td>\n",
              "      <td>80</td>\n",
              "      <td>144</td>\n",
              "      <td>511</td>\n",
              "      <td>107</td>\n",
              "      <td>901</td>\n",
              "      <td>59</td>\n",
              "      <td>116</td>\n",
              "      <td>...</td>\n",
              "      <td>4.1674</td>\n",
              "      <td>102.87</td>\n",
              "      <td>71</td>\n",
              "      <td>92.02</td>\n",
              "      <td>93.857</td>\n",
              "      <td>472</td>\n",
              "      <td>801</td>\n",
              "      <td>748</td>\n",
              "      <td>25</td>\n",
              "      <td>872</td>\n",
              "      <td>35</td>\n",
              "      <td>189</td>\n",
              "      <td>245</td>\n",
              "      <td>517</td>\n",
              "      <td>200</td>\n",
              "      <td>163</td>\n",
              "      <td>50</td>\n",
              "      <td>31</td>\n",
              "      <td>714</td>\n",
              "      <td>155</td>\n",
              "      <td>357</td>\n",
              "      <td>437</td>\n",
              "      <td>609</td>\n",
              "      <td>36</td>\n",
              "      <td>897</td>\n",
              "      <td>202</td>\n",
              "      <td>433</td>\n",
              "      <td>101</td>\n",
              "      <td>NaN</td>\n",
              "      <td>934</td>\n",
              "      <td>867</td>\n",
              "      <td>968</td>\n",
              "      <td>914</td>\n",
              "      <td>NaN</td>\n",
              "      <td>104</td>\n",
              "      <td>544</td>\n",
              "      <td>NaN</td>\n",
              "      <td>NaN</td>\n",
              "      <td>NaN</td>\n",
              "      <td>32206.0</td>\n",
              "    </tr>\n",
              "    <tr>\n",
              "      <th>2</th>\n",
              "      <td>2013-05-01</td>\n",
              "      <td>101</td>\n",
              "      <td>993</td>\n",
              "      <td>96</td>\n",
              "      <td>105</td>\n",
              "      <td>968</td>\n",
              "      <td>100</td>\n",
              "      <td>104</td>\n",
              "      <td>101</td>\n",
              "      <td>102</td>\n",
              "      <td>311</td>\n",
              "      <td>545</td>\n",
              "      <td>121</td>\n",
              "      <td>107</td>\n",
              "      <td>135</td>\n",
              "      <td>134</td>\n",
              "      <td>37</td>\n",
              "      <td>184</td>\n",
              "      <td>342</td>\n",
              "      <td>686</td>\n",
              "      <td>104</td>\n",
              "      <td>101</td>\n",
              "      <td>173</td>\n",
              "      <td>778</td>\n",
              "      <td>228</td>\n",
              "      <td>274</td>\n",
              "      <td>74</td>\n",
              "      <td>10</td>\n",
              "      <td>206</td>\n",
              "      <td>536</td>\n",
              "      <td>355</td>\n",
              "      <td>571</td>\n",
              "      <td>125</td>\n",
              "      <td>805</td>\n",
              "      <td>147</td>\n",
              "      <td>512</td>\n",
              "      <td>107</td>\n",
              "      <td>913</td>\n",
              "      <td>436</td>\n",
              "      <td>116</td>\n",
              "      <td>...</td>\n",
              "      <td>4.0423</td>\n",
              "      <td>103.03</td>\n",
              "      <td>71</td>\n",
              "      <td>94.76</td>\n",
              "      <td>93.351</td>\n",
              "      <td>479</td>\n",
              "      <td>801</td>\n",
              "      <td>689</td>\n",
              "      <td>2</td>\n",
              "      <td>885</td>\n",
              "      <td>370</td>\n",
              "      <td>183</td>\n",
              "      <td>259</td>\n",
              "      <td>523</td>\n",
              "      <td>204</td>\n",
              "      <td>164</td>\n",
              "      <td>502</td>\n",
              "      <td>30</td>\n",
              "      <td>703</td>\n",
              "      <td>15</td>\n",
              "      <td>387</td>\n",
              "      <td>429</td>\n",
              "      <td>63</td>\n",
              "      <td>364</td>\n",
              "      <td>928</td>\n",
              "      <td>200</td>\n",
              "      <td>438</td>\n",
              "      <td>95</td>\n",
              "      <td>NaN</td>\n",
              "      <td>944</td>\n",
              "      <td>878</td>\n",
              "      <td>978</td>\n",
              "      <td>966</td>\n",
              "      <td>NaN</td>\n",
              "      <td>99</td>\n",
              "      <td>56</td>\n",
              "      <td>NaN</td>\n",
              "      <td>NaN</td>\n",
              "      <td>NaN</td>\n",
              "      <td>31589.0</td>\n",
              "    </tr>\n",
              "    <tr>\n",
              "      <th>3</th>\n",
              "      <td>2013-06-01</td>\n",
              "      <td>998</td>\n",
              "      <td>968</td>\n",
              "      <td>102</td>\n",
              "      <td>999</td>\n",
              "      <td>89</td>\n",
              "      <td>939</td>\n",
              "      <td>103</td>\n",
              "      <td>100</td>\n",
              "      <td>995</td>\n",
              "      <td>246</td>\n",
              "      <td>418</td>\n",
              "      <td>129</td>\n",
              "      <td>115</td>\n",
              "      <td>138</td>\n",
              "      <td>127</td>\n",
              "      <td>323</td>\n",
              "      <td>17</td>\n",
              "      <td>290</td>\n",
              "      <td>667</td>\n",
              "      <td>102</td>\n",
              "      <td>100</td>\n",
              "      <td>187</td>\n",
              "      <td>716</td>\n",
              "      <td>222</td>\n",
              "      <td>270</td>\n",
              "      <td>719</td>\n",
              "      <td>979</td>\n",
              "      <td>208</td>\n",
              "      <td>526</td>\n",
              "      <td>353</td>\n",
              "      <td>573</td>\n",
              "      <td>125</td>\n",
              "      <td>811</td>\n",
              "      <td>146</td>\n",
              "      <td>514</td>\n",
              "      <td>105</td>\n",
              "      <td>883</td>\n",
              "      <td>474</td>\n",
              "      <td>114</td>\n",
              "      <td>...</td>\n",
              "      <td>3.8246</td>\n",
              "      <td>103.11</td>\n",
              "      <td>72</td>\n",
              "      <td>95.79</td>\n",
              "      <td>86.188</td>\n",
              "      <td>502</td>\n",
              "      <td>800</td>\n",
              "      <td>643</td>\n",
              "      <td>271</td>\n",
              "      <td>893</td>\n",
              "      <td>393</td>\n",
              "      <td>174</td>\n",
              "      <td>256</td>\n",
              "      <td>541</td>\n",
              "      <td>19</td>\n",
              "      <td>167</td>\n",
              "      <td>514</td>\n",
              "      <td>30</td>\n",
              "      <td>698</td>\n",
              "      <td>156</td>\n",
              "      <td>398</td>\n",
              "      <td>429</td>\n",
              "      <td>648</td>\n",
              "      <td>364</td>\n",
              "      <td>922</td>\n",
              "      <td>201</td>\n",
              "      <td>447</td>\n",
              "      <td>66</td>\n",
              "      <td>NaN</td>\n",
              "      <td>985</td>\n",
              "      <td>913</td>\n",
              "      <td>966</td>\n",
              "      <td>981</td>\n",
              "      <td>NaN</td>\n",
              "      <td>94</td>\n",
              "      <td>56</td>\n",
              "      <td>NaN</td>\n",
              "      <td>NaN</td>\n",
              "      <td>NaN</td>\n",
              "      <td>28457.0</td>\n",
              "    </tr>\n",
              "    <tr>\n",
              "      <th>4</th>\n",
              "      <td>2013-07-01</td>\n",
              "      <td>964</td>\n",
              "      <td>961</td>\n",
              "      <td>980</td>\n",
              "      <td>100</td>\n",
              "      <td>901</td>\n",
              "      <td>92</td>\n",
              "      <td>969</td>\n",
              "      <td>962</td>\n",
              "      <td>962</td>\n",
              "      <td>201</td>\n",
              "      <td>565</td>\n",
              "      <td>123</td>\n",
              "      <td>10</td>\n",
              "      <td>145</td>\n",
              "      <td>128</td>\n",
              "      <td>327</td>\n",
              "      <td>163</td>\n",
              "      <td>277</td>\n",
              "      <td>692</td>\n",
              "      <td>10</td>\n",
              "      <td>102</td>\n",
              "      <td>179</td>\n",
              "      <td>763</td>\n",
              "      <td>23</td>\n",
              "      <td>293</td>\n",
              "      <td>741</td>\n",
              "      <td>967</td>\n",
              "      <td>212</td>\n",
              "      <td>536</td>\n",
              "      <td>353</td>\n",
              "      <td>574</td>\n",
              "      <td>124</td>\n",
              "      <td>813</td>\n",
              "      <td>108</td>\n",
              "      <td>515</td>\n",
              "      <td>101</td>\n",
              "      <td>912</td>\n",
              "      <td>546</td>\n",
              "      <td>11</td>\n",
              "      <td>...</td>\n",
              "      <td>3.6242</td>\n",
              "      <td>107.72</td>\n",
              "      <td>7</td>\n",
              "      <td>104.70</td>\n",
              "      <td>92.179</td>\n",
              "      <td>504</td>\n",
              "      <td>798</td>\n",
              "      <td>625</td>\n",
              "      <td>268</td>\n",
              "      <td>90</td>\n",
              "      <td>422</td>\n",
              "      <td>163</td>\n",
              "      <td>249</td>\n",
              "      <td>685</td>\n",
              "      <td>190</td>\n",
              "      <td>158</td>\n",
              "      <td>509</td>\n",
              "      <td>326</td>\n",
              "      <td>685</td>\n",
              "      <td>1</td>\n",
              "      <td>397</td>\n",
              "      <td>421</td>\n",
              "      <td>675</td>\n",
              "      <td>367</td>\n",
              "      <td>961</td>\n",
              "      <td>187</td>\n",
              "      <td>436</td>\n",
              "      <td>121</td>\n",
              "      <td>NaN</td>\n",
              "      <td>982</td>\n",
              "      <td>909</td>\n",
              "      <td>100</td>\n",
              "      <td>990</td>\n",
              "      <td>NaN</td>\n",
              "      <td>102</td>\n",
              "      <td>586</td>\n",
              "      <td>NaN</td>\n",
              "      <td>NaN</td>\n",
              "      <td>NaN</td>\n",
              "      <td>31736.0</td>\n",
              "    </tr>\n",
              "  </tbody>\n",
              "</table>\n",
              "<p>5 rows × 85 columns</p>\n",
              "</div>"
            ],
            "text/plain": [
              "      Periodo  ... Ventas_autos_nuevos\n",
              "0  2013-03-01  ...             28577.0\n",
              "1  2013-04-01  ...             32206.0\n",
              "2  2013-05-01  ...             31589.0\n",
              "3  2013-06-01  ...             28457.0\n",
              "4  2013-07-01  ...             31736.0\n",
              "\n",
              "[5 rows x 85 columns]"
            ]
          },
          "metadata": {
            "tags": []
          },
          "execution_count": 58
        }
      ]
    },
    {
      "cell_type": "markdown",
      "metadata": {
        "id": "78wym0CTadQo"
      },
      "source": [
        "2. Análisis de datos. Creación de variables\n"
      ]
    },
    {
      "cell_type": "markdown",
      "metadata": {
        "id": "sCSx--EqdcEh"
      },
      "source": [
        "• Realiza un análisis exploratorio de la base de datos, ¿Qué puedes decir de los datos, sus distribuciones, valores faltantes, otros? ¿Hay algo que te llame la atención?\n",
        "R: En el dataset precipitaciones, los datos son todos de tipo float64, sus distribuciones son..... , y no hay valores en blanco.\n",
        "En el data set banco_central, los datos son de tipo object con 2 puntos decimales y 3 cifras ( se cortara el largo de este numero) y float64, sus distribuciones son ...., y contiene varios valores en blanco y el caracter 'a'\n",
        "\n",
        "• Realiza una limpieza de datos para que las series de tiempo no tengan duplicados ni valores incorrectos.\n",
        "R: OK - se recorta en 90 filas, para avanzar en la programación.\n"
      ]
    },
    {
      "cell_type": "code",
      "metadata": {
        "colab": {
          "base_uri": "https://localhost:8080/"
        },
        "id": "ZSti-ASyvY1s",
        "outputId": "d9266597-dd0c-4f8e-d355-966f41de823c"
      },
      "source": [
        "df_precipitaciones_ord.info()"
      ],
      "execution_count": 59,
      "outputs": [
        {
          "output_type": "stream",
          "text": [
            "<class 'pandas.core.frame.DataFrame'>\n",
            "RangeIndex: 88 entries, 0 to 87\n",
            "Data columns (total 9 columns):\n",
            " #   Column                               Non-Null Count  Dtype  \n",
            "---  ------                               --------------  -----  \n",
            " 0   date                                 88 non-null     object \n",
            " 1   Coquimbo                             88 non-null     float64\n",
            " 2   Valparaiso                           88 non-null     float64\n",
            " 3   Metropolitana_de_Santiago            88 non-null     float64\n",
            " 4   Libertador_Gral__Bernardo_O_Higgins  88 non-null     float64\n",
            " 5   Maule                                88 non-null     float64\n",
            " 6   Biobio                               88 non-null     float64\n",
            " 7   La_Araucania                         88 non-null     float64\n",
            " 8   Los_Rios                             88 non-null     float64\n",
            "dtypes: float64(8), object(1)\n",
            "memory usage: 6.3+ KB\n"
          ],
          "name": "stdout"
        }
      ]
    },
    {
      "cell_type": "code",
      "metadata": {
        "colab": {
          "base_uri": "https://localhost:8080/"
        },
        "id": "UHIRxrO6wSi1",
        "outputId": "b4e382df-9c91-4d6d-fb63-add86bb69acf"
      },
      "source": [
        "df_banco1.info()"
      ],
      "execution_count": 60,
      "outputs": [
        {
          "output_type": "stream",
          "text": [
            "<class 'pandas.core.frame.DataFrame'>\n",
            "RangeIndex: 88 entries, 0 to 87\n",
            "Data columns (total 85 columns):\n",
            " #   Column                                                                              Non-Null Count  Dtype  \n",
            "---  ------                                                                              --------------  -----  \n",
            " 0   Periodo                                                                             88 non-null     object \n",
            " 1   Imacec_empalmado                                                                    88 non-null     object \n",
            " 2   Imacec_produccion_de_bienes                                                         88 non-null     object \n",
            " 3   Imacec_minero                                                                       88 non-null     object \n",
            " 4   Imacec_industria                                                                    88 non-null     object \n",
            " 5   Imacec_resto_de_bienes                                                              88 non-null     object \n",
            " 6   Imacec_comercio                                                                     88 non-null     object \n",
            " 7   Imacec_servicios                                                                    88 non-null     object \n",
            " 8   Imacec_a_costo_de_factores                                                          88 non-null     object \n",
            " 9   Imacec_no_minero                                                                    88 non-null     object \n",
            " 10  PIB_Agropecuario_silvicola                                                          88 non-null     object \n",
            " 11  PIB_Pesca                                                                           88 non-null     object \n",
            " 12  PIB_Mineria                                                                         88 non-null     object \n",
            " 13  PIB_Mineria_del_cobre                                                               88 non-null     object \n",
            " 14  PIB_Otras_actividades_mineras                                                       88 non-null     object \n",
            " 15  PIB_Industria_Manufacturera                                                         88 non-null     object \n",
            " 16  PIB_Alimentos                                                                       88 non-null     object \n",
            " 17  PIB_Bebidas_y_tabaco                                                                88 non-null     object \n",
            " 18  PIB_Textil                                                                          88 non-null     object \n",
            " 19  PIB_Maderas_y_muebles                                                               88 non-null     object \n",
            " 20  PIB_Celulosa                                                                        88 non-null     object \n",
            " 21  PIB_Refinacion_de_petroleo                                                          88 non-null     object \n",
            " 22  PIB_Quimica                                                                         88 non-null     object \n",
            " 23  PIB_Minerales_no_metalicos_y_metalica_basica                                        88 non-null     object \n",
            " 24  PIB_Productos_metalicos                                                             88 non-null     object \n",
            " 25  PIB_Electricidad                                                                    88 non-null     object \n",
            " 26  PIB_Construccion                                                                    88 non-null     object \n",
            " 27  PIB_Comercio                                                                        88 non-null     object \n",
            " 28  PIB_Restaurantes_y_hoteles                                                          88 non-null     object \n",
            " 29  PIB_Transporte                                                                      88 non-null     object \n",
            " 30  PIB_Comunicaciones                                                                  88 non-null     object \n",
            " 31  PIB_Servicios_financieros                                                           88 non-null     object \n",
            " 32  PIB_Servicios_empresariales                                                         88 non-null     object \n",
            " 33  PIB_Servicios_de_vivienda                                                           88 non-null     object \n",
            " 34  PIB_Servicios_personales                                                            88 non-null     object \n",
            " 35  PIB_Administracion_publica                                                          88 non-null     object \n",
            " 36  PIB_a_costo_de_factores                                                             88 non-null     object \n",
            " 37  Impuesto_al_valor_agregado                                                          88 non-null     object \n",
            " 38  Derechos_de_Importacion                                                             88 non-null     object \n",
            " 39  PIB                                                                                 88 non-null     object \n",
            " 40  Precio_de_la_gasolina_en_EEUU_dolaresm3                                             88 non-null     object \n",
            " 41  Precio_de_la_onza_troy_de_oro_dolaresoz                                             88 non-null     float64\n",
            " 42  Precio_de_la_onza_troy_de_plata_dolaresoz                                           88 non-null     float64\n",
            " 43  Precio_del_cobre_refinado_BML_dolareslibra                                          88 non-null     object \n",
            " 44  Precio_del_diesel_centavos_de_dolargalon                                            88 non-null     float64\n",
            " 45  Precio_del_gas_natural_dolaresmillon_de_unidades_termicas_britanicas                88 non-null     float64\n",
            " 46  Precio_del_petroleo_Brent_dolaresbarril                                             88 non-null     float64\n",
            " 47  Precio_del_kerosene_dolaresm3                                                       88 non-null     object \n",
            " 48  Precio_del_petroleo_WTI_dolaresbarril                                               88 non-null     float64\n",
            " 49  Precio_del_propano_centavos_de_dolargalon_DTN                                       88 non-null     float64\n",
            " 50  Tipo_de_cambio_del_dolar_observado_diario                                           88 non-null     object \n",
            " 51  Ocupados                                                                            88 non-null     object \n",
            " 52  Ocupacion_en_Agricultura_INE                                                        88 non-null     object \n",
            " 53  Ocupacion_en_Explotacion_de_minas_y_canteras_INE                                    88 non-null     object \n",
            " 54  Ocupacion_en_Industrias_manufactureras_INE                                          88 non-null     object \n",
            " 55  Ocupacion_en_Suministro_de_electricidad_INE                                         88 non-null     object \n",
            " 56  Ocupacion_en_Actividades_de_servicios_administrativos_y_de_apoyo_INE                88 non-null     object \n",
            " 57  Ocupacion_en_Actividades_profesionales_INE                                          88 non-null     object \n",
            " 58  Ocupacion_en_Actividades_inmobiliarias_INE                                          88 non-null     object \n",
            " 59  Ocupacion_en_Actividades_financieras_y_de_seguros_INE                               88 non-null     object \n",
            " 60  Ocupacion_en_Informacion_y_comunicaciones_INE                                       88 non-null     object \n",
            " 61  Ocupacion_en_Transporte_y_almacenamiento_INE                                        88 non-null     object \n",
            " 62  Ocupacion_en_Actividades_de_alojamiento_y_de_servicio_de_comidas_INE                88 non-null     object \n",
            " 63  Ocupacion_en_Construccion_INE                                                       88 non-null     object \n",
            " 64  Ocupacion_en_Comercio_INE                                                           88 non-null     object \n",
            " 65  Ocupacion_en_Suministro_de_agua_evacuacion_de_aguas_residuales_INE                  88 non-null     object \n",
            " 66  Ocupacion_en_Administracion_publica_y_defensa_INE                                   88 non-null     object \n",
            " 67  Ocupacion_en_Enseanza_INE                                                           88 non-null     object \n",
            " 68  Ocupacion_en_Actividades_de_atencion_de_la_salud_humana_y_de_asistencia_social_INE  88 non-null     object \n",
            " 69  Ocupacion_en_Actividades_artisticas_INE                                             88 non-null     object \n",
            " 70  Ocupacion_en_Otras_actividades_de_servicios_INE                                     88 non-null     object \n",
            " 71  Ocupacion_en_Actividades_de_los_hogares_como_empleadores_INE                        88 non-null     object \n",
            " 72  Ocupacion_en_Actividades_de_organizaciones_y_organos_extraterritoriales_INE         88 non-null     object \n",
            " 73  No_sabe__No_responde_Miles_de_personas                                              4 non-null      object \n",
            " 74  Tipo_de_cambio_nominal_multilateral___TCM                                           88 non-null     object \n",
            " 75  Indice_de_tipo_de_cambio_real___TCR_promedio_1986_100                               88 non-null     object \n",
            " 76  Indice_de_produccion_industrial                                                     88 non-null     object \n",
            " 77  Indice_de_produccion_industrial__mineria                                            88 non-null     object \n",
            " 78  Indice_de_produccion_industrial_electricidad__gas_y_agua                            78 non-null     object \n",
            " 79  Indice_de_produccion_industrial__manufacturera                                      88 non-null     object \n",
            " 80  Generacion_de_energia_electrica_CDEC_GWh                                            88 non-null     object \n",
            " 81  Indice_de_ventas_comercio_real_IVCM                                                 78 non-null     object \n",
            " 82  Indice_de_ventas_comercio_real_no_durables_IVCM                                     78 non-null     object \n",
            " 83  Indice_de_ventas_comercio_real_durables_IVCM                                        78 non-null     object \n",
            " 84  Ventas_autos_nuevos                                                                 88 non-null     float64\n",
            "dtypes: float64(8), object(77)\n",
            "memory usage: 58.6+ KB\n"
          ],
          "name": "stdout"
        }
      ]
    },
    {
      "cell_type": "code",
      "metadata": {
        "colab": {
          "base_uri": "https://localhost:8080/"
        },
        "id": "dbDGsGm7NKzT",
        "outputId": "475ffa59-5234-4880-f770-5f791a44f88a"
      },
      "source": [
        "print(df_banco1)"
      ],
      "execution_count": 61,
      "outputs": [
        {
          "output_type": "stream",
          "text": [
            "       Periodo  ... Ventas_autos_nuevos\n",
            "0   2013-03-01  ...             28577.0\n",
            "1   2013-04-01  ...             32206.0\n",
            "2   2013-05-01  ...             31589.0\n",
            "3   2013-06-01  ...             28457.0\n",
            "4   2013-07-01  ...             31736.0\n",
            "..         ...  ...                 ...\n",
            "83  2019-12-01  ...             31090.0\n",
            "84  2020-01-01  ...             32104.0\n",
            "85  2020-02-01  ...             25025.0\n",
            "86  2020-03-01  ...             19177.0\n",
            "87  2020-04-01  ...              8906.0\n",
            "\n",
            "[88 rows x 85 columns]\n"
          ],
          "name": "stdout"
        }
      ]
    },
    {
      "cell_type": "markdown",
      "metadata": {
        "id": "-jE2FlGbcVtK"
      },
      "source": [
        "3. Visualización"
      ]
    },
    {
      "cell_type": "markdown",
      "metadata": {
        "id": "nx-Zjs0gdpEZ"
      },
      "source": [
        "• Crea una función que permita graficar series históricas de precipitaciones para un\n",
        "rango de fechas determinado. Para esto la función debe recibir como argumentos el\n",
        "nombre de una región, fecha de inicio y fecha de término (asegúrate de verificar en\n",
        "tu función que tanto el nombre de la región como las fechas ingresadas existan en el\n",
        "dataset). OKOK\n",
        "\n",
        "• Usa esta función para graficar las precipitaciones para la Región Libertador General\n",
        "Bernardo O'Higgins y para la Región Metropolitana entre las fechas 2000-01-01 y\n",
        "2020-01-01.\n",
        "o ¿ Qué observas con respecto a estacionalidades y tendencias? - R: Son iguales...\n",
        "\n",
        "• Crea una función que, para una región, grafique múltiples series de tiempo\n",
        "mensuales de precipitaciones, donde cada serie de tiempo corresponda a un año. La\n",
        "función debe recibir como argumento una lista con los años que queremos graficar\n",
        "(2000, 2005,..) y el nombre de la región. El eje X debe indicar los meses (enero,\n",
        "febrero, etc…).\n",
        "\n",
        "• Usa esta función para graficar las precipitaciones para la Región del Maule durante\n",
        "los años 1982, 1992, 2002, 2012 y 2019.\n",
        "o ¿Qué puedes concluir de estos gráficos?\n",
        "\n",
        "• Crea una función que permita visualizar dos series históricas de PIB para un rango de\n",
        "fechas determinado. Para esto la función debe recibir como input el nombre de cada\n",
        "serie, fecha de inicio y fecha de término.\n",
        "\n",
        "• Grafica las series de tiempo del PIB agropecuario y silvícola y la del PIB de Servicios\n",
        "financieros desde el 2013-01-01 hasta la fecha más reciente en que haya datos.\n",
        "o ¿Qué puedes decir de cada serie en particular?\n",
        "o ¿Hay alguna relación entre estas dos series?"
      ]
    },
    {
      "cell_type": "code",
      "metadata": {
        "id": "AGgSD96YsBIh"
      },
      "source": [
        "def graphseries(region, fecha1, fecha2, data):\n",
        "  subdata = data[['date',region]]\n",
        "  nombrecolumnas = data.columns.values.tolist()\n",
        "  rango = subdata['date'].tolist()\n",
        "  valor = region in nombrecolumnas\n",
        "  valida = validafecha(fecha1, rango)\n",
        "  try:\n",
        "    if valor & valida:\n",
        "      plt.rcParams['figure.figsize'] = (10, 5)\n",
        "      fig, ax = plt.subplots()\n",
        "      ax.plot(subdata.index, subdata[region]);\n",
        "      ax.set_xlabel(\"Desde \"+fecha1+\" Hasta \"+fecha2);\n",
        "      ax.set_ylabel(\"Precipitaciones\");\n",
        "    else:\n",
        "      print(\"no\")\n",
        "  except KeyError:\n",
        "    print(\"excetp\")\n"
      ],
      "execution_count": 62,
      "outputs": []
    },
    {
      "cell_type": "code",
      "metadata": {
        "id": "1FT5NAJIY_UQ"
      },
      "source": [
        "def validafecha(fecha, rangofecha):\n",
        "  date_time_obj = datetime.strptime(fecha, '%Y-%m-%d')\n",
        "  primero = rangofecha[0]\n",
        "  date_time_primero = datetime.strptime(primero, '%Y-%m-%d')\n",
        "  last_element = rangofecha[-1]\n",
        "  date_time_last = datetime.strptime(last_element, '%Y-%m-%d')\n",
        "  a = date_time_obj >= date_time_primero\n",
        "  b = date_time_obj <= date_time_last\n",
        "  if a &  b:\n",
        "    return True\n",
        "  else:\n",
        "    return False\n"
      ],
      "execution_count": 65,
      "outputs": []
    },
    {
      "cell_type": "code",
      "metadata": {
        "colab": {
          "base_uri": "https://localhost:8080/",
          "height": 334
        },
        "id": "NA-kfEonszoB",
        "outputId": "d9884feb-ff45-4a95-8627-45791a2dca6b"
      },
      "source": [
        "graphseries(\"Libertador_Gral__Bernardo_O_Higgins\", '2013-01-01', '2020-01-01',df_precipitaciones_ord)"
      ],
      "execution_count": 66,
      "outputs": [
        {
          "output_type": "display_data",
          "data": {
            "image/png": "[encoded data removed]",
            "text/plain": [
              "<Figure size 720x360 with 1 Axes>"
            ]
          },
          "metadata": {
            "tags": [],
            "needs_background": "light"
          }
        }
      ]
    },
    {
      "cell_type": "code",
      "metadata": {
        "colab": {
          "base_uri": "https://localhost:8080/",
          "height": 334
        },
        "id": "UnXNXBZVKYcQ",
        "outputId": "c0af7fd2-b1df-45ea-8c5d-5c083ba1663c"
      },
      "source": [
        "graphseries(\"Metropolitana_de_Santiago\", '2014-01-01', '2000-01-01',df_precipitaciones_ord)"
      ],
      "execution_count": 67,
      "outputs": [
        {
          "output_type": "display_data",
          "data": {
            "image/png": "[encoded data removed]",
            "text/plain": [
              "<Figure size 720x360 with 1 Axes>"
            ]
          },
          "metadata": {
            "tags": [],
            "needs_background": "light"
          }
        }
      ]
    },
    {
      "cell_type": "code",
      "metadata": {
        "colab": {
          "base_uri": "https://localhost:8080/",
          "height": 334
        },
        "id": "c9nHwdkYT23j",
        "outputId": "71ac0afd-659c-4452-fdf8-0ae59d4e77d8"
      },
      "source": [
        "plt.rcParams['figure.figsize'] = (10, 5)\n",
        "climate_change = pd.read_csv(\"/content/gdrive/MyDrive/dataspike/banco_central.csv\")\n",
        "fig, ax = plt.subplots()\n",
        "ax.plot(df_banco1.index, df_banco1[\"Precio_de_la_onza_troy_de_oro_dolaresoz\"]);\n",
        "ax.set_xlabel(\"Time\");\n",
        "ax.set_ylabel(\"Imacec_empalmado\");\n"
      ],
      "execution_count": 68,
      "outputs": [
        {
          "output_type": "display_data",
          "data": {
            "image/png": "[encoded data removed]",
            "text/plain": [
              "<Figure size 720x360 with 1 Axes>"
            ]
          },
          "metadata": {
            "tags": [],
            "needs_background": "light"
          }
        }
      ]
    },
    {
      "cell_type": "code",
      "metadata": {
        "colab": {
          "base_uri": "https://localhost:8080/",
          "height": 320
        },
        "id": "G8J4h0OaCBoH",
        "outputId": "9cd4f21d-77b6-4914-d2de-e72ceecc8a91"
      },
      "source": [
        "plt.rcParams['figure.figsize'] = (10, 5)\n",
        "fig, ax = plt.subplots()\n",
        "ax.plot(df_precipitaciones_ord.index, df_precipitaciones_ord[\"Coquimbo\"]);\n"
      ],
      "execution_count": 69,
      "outputs": [
        {
          "output_type": "display_data",
          "data": {
            "image/png": "[encoded data removed]",
            "text/plain": [
              "<Figure size 720x360 with 1 Axes>"
            ]
          },
          "metadata": {
            "tags": [],
            "needs_background": "light"
          }
        }
      ]
    },
    {
      "cell_type": "markdown",
      "metadata": {
        "id": "OVTbDLWNc4lh"
      },
      "source": [
        "4. Tratamiento y creación de variables"
      ]
    },
    {
      "cell_type": "markdown",
      "metadata": {
        "id": "eozGcdX7d1rp"
      },
      "source": [
        "• ¿Cómo podríamos evaluar la correlación entre las distintas series de tiempo y cómo se tienen que correlacionar para entrenar un modelo? ¿Mucha correlación, no\n",
        "correlacionadas, da igual? - R: matrix de correlacion, correlación no implica causalidad, hay que evaluar en cada caso.\n",
        "\n",
        "• Para el entrenamiento del modelo, queremos predecir el precio de la leche para el productor en Chile. Para eso, descarga el archivo precio_leche.csv y haz un merge con las bases de datos de precipitaciones y datos del Banco Central. R: Esto esta OK.\n",
        "\n",
        "*Este archivo tiene una columna de año, mes y precio_leche (que corresponde al\n",
        "precio nominal, sin IVA, en pesos chilenos por litro), por lo que vas a tener que crear la columna de fecha que calce con la de las otras bases. R: Esto esta OK.\n",
        "\n",
        "• Crea las variables: o A partir de la variable fecha, crea nuevas variables para el año, mes, trimestre. o Lags y estadísticas acumuladas (por ejemplo:  promedio, varianza) de las variables que consideres relevantes.\n"
      ]
    },
    {
      "cell_type": "code",
      "metadata": {
        "colab": {
          "base_uri": "https://localhost:8080/",
          "height": 317
        },
        "id": "GFAkQ7vWxErm",
        "outputId": "795ec0e1-1a53-4206-b9df-3bb56dd3f794"
      },
      "source": [
        "df_banco1.corr(method ='pearson')"
      ],
      "execution_count": 72,
      "outputs": [
        {
          "output_type": "execute_result",
          "data": {
            "text/html": [
              "<div>\n",
              "<style scoped>\n",
              "    .dataframe tbody tr th:only-of-type {\n",
              "        vertical-align: middle;\n",
              "    }\n",
              "\n",
              "    .dataframe tbody tr th {\n",
              "        vertical-align: top;\n",
              "    }\n",
              "\n",
              "    .dataframe thead th {\n",
              "        text-align: right;\n",
              "    }\n",
              "</style>\n",
              "<table border=\"1\" class=\"dataframe\">\n",
              "  <thead>\n",
              "    <tr style=\"text-align: right;\">\n",
              "      <th></th>\n",
              "      <th>Precio_de_la_onza_troy_de_oro_dolaresoz</th>\n",
              "      <th>Precio_de_la_onza_troy_de_plata_dolaresoz</th>\n",
              "      <th>Precio_del_diesel_centavos_de_dolargalon</th>\n",
              "      <th>Precio_del_gas_natural_dolaresmillon_de_unidades_termicas_britanicas</th>\n",
              "      <th>Precio_del_petroleo_Brent_dolaresbarril</th>\n",
              "      <th>Precio_del_petroleo_WTI_dolaresbarril</th>\n",
              "      <th>Precio_del_propano_centavos_de_dolargalon_DTN</th>\n",
              "      <th>Ventas_autos_nuevos</th>\n",
              "    </tr>\n",
              "  </thead>\n",
              "  <tbody>\n",
              "    <tr>\n",
              "      <th>Precio_de_la_onza_troy_de_oro_dolaresoz</th>\n",
              "      <td>1.000000</td>\n",
              "      <td>0.254413</td>\n",
              "      <td>0.128667</td>\n",
              "      <td>-0.119448</td>\n",
              "      <td>0.116763</td>\n",
              "      <td>0.080103</td>\n",
              "      <td>-0.083515</td>\n",
              "      <td>-0.031132</td>\n",
              "    </tr>\n",
              "    <tr>\n",
              "      <th>Precio_de_la_onza_troy_de_plata_dolaresoz</th>\n",
              "      <td>0.254413</td>\n",
              "      <td>1.000000</td>\n",
              "      <td>0.360584</td>\n",
              "      <td>0.250096</td>\n",
              "      <td>0.351208</td>\n",
              "      <td>0.344684</td>\n",
              "      <td>0.196253</td>\n",
              "      <td>0.004277</td>\n",
              "    </tr>\n",
              "    <tr>\n",
              "      <th>Precio_del_diesel_centavos_de_dolargalon</th>\n",
              "      <td>0.128667</td>\n",
              "      <td>0.360584</td>\n",
              "      <td>1.000000</td>\n",
              "      <td>0.796679</td>\n",
              "      <td>0.995633</td>\n",
              "      <td>0.986513</td>\n",
              "      <td>0.838789</td>\n",
              "      <td>0.370223</td>\n",
              "    </tr>\n",
              "    <tr>\n",
              "      <th>Precio_del_gas_natural_dolaresmillon_de_unidades_termicas_britanicas</th>\n",
              "      <td>-0.119448</td>\n",
              "      <td>0.250096</td>\n",
              "      <td>0.796679</td>\n",
              "      <td>1.000000</td>\n",
              "      <td>0.791438</td>\n",
              "      <td>0.793475</td>\n",
              "      <td>0.801049</td>\n",
              "      <td>0.251346</td>\n",
              "    </tr>\n",
              "    <tr>\n",
              "      <th>Precio_del_petroleo_Brent_dolaresbarril</th>\n",
              "      <td>0.116763</td>\n",
              "      <td>0.351208</td>\n",
              "      <td>0.995633</td>\n",
              "      <td>0.791438</td>\n",
              "      <td>1.000000</td>\n",
              "      <td>0.992526</td>\n",
              "      <td>0.841027</td>\n",
              "      <td>0.356855</td>\n",
              "    </tr>\n",
              "    <tr>\n",
              "      <th>Precio_del_petroleo_WTI_dolaresbarril</th>\n",
              "      <td>0.080103</td>\n",
              "      <td>0.344684</td>\n",
              "      <td>0.986513</td>\n",
              "      <td>0.793475</td>\n",
              "      <td>0.992526</td>\n",
              "      <td>1.000000</td>\n",
              "      <td>0.833667</td>\n",
              "      <td>0.333150</td>\n",
              "    </tr>\n",
              "    <tr>\n",
              "      <th>Precio_del_propano_centavos_de_dolargalon_DTN</th>\n",
              "      <td>-0.083515</td>\n",
              "      <td>0.196253</td>\n",
              "      <td>0.838789</td>\n",
              "      <td>0.801049</td>\n",
              "      <td>0.841027</td>\n",
              "      <td>0.833667</td>\n",
              "      <td>1.000000</td>\n",
              "      <td>0.472046</td>\n",
              "    </tr>\n",
              "    <tr>\n",
              "      <th>Ventas_autos_nuevos</th>\n",
              "      <td>-0.031132</td>\n",
              "      <td>0.004277</td>\n",
              "      <td>0.370223</td>\n",
              "      <td>0.251346</td>\n",
              "      <td>0.356855</td>\n",
              "      <td>0.333150</td>\n",
              "      <td>0.472046</td>\n",
              "      <td>1.000000</td>\n",
              "    </tr>\n",
              "  </tbody>\n",
              "</table>\n",
              "</div>"
            ],
            "text/plain": [
              "                                                    Precio_de_la_onza_troy_de_oro_dolaresoz  ...  Ventas_autos_nuevos\n",
              "Precio_de_la_onza_troy_de_oro_dolaresoz                                            1.000000  ...            -0.031132\n",
              "Precio_de_la_onza_troy_de_plata_dolaresoz                                          0.254413  ...             0.004277\n",
              "Precio_del_diesel_centavos_de_dolargalon                                           0.128667  ...             0.370223\n",
              "Precio_del_gas_natural_dolaresmillon_de_unidade...                                -0.119448  ...             0.251346\n",
              "Precio_del_petroleo_Brent_dolaresbarril                                            0.116763  ...             0.356855\n",
              "Precio_del_petroleo_WTI_dolaresbarril                                              0.080103  ...             0.333150\n",
              "Precio_del_propano_centavos_de_dolargalon_DTN                                     -0.083515  ...             0.472046\n",
              "Ventas_autos_nuevos                                                               -0.031132  ...             1.000000\n",
              "\n",
              "[8 rows x 8 columns]"
            ]
          },
          "metadata": {
            "tags": []
          },
          "execution_count": 72
        }
      ]
    },
    {
      "cell_type": "code",
      "metadata": {
        "id": "yXOu2gF9Rm2Y"
      },
      "source": [
        "def monthToNum(shortMonth):\n",
        "  return{\n",
        "      \"Ene\" : \"01\",\n",
        "      \"Feb\" : \"02\",\n",
        "      \"Mar\" : \"03\",\n",
        "      \"Abr\" : \"04\",\n",
        "      \"May\" : \"05\",\n",
        "      \"Jun\" : \"06\",\n",
        "      \"Jul\" : \"07\",\n",
        "      \"Ago\" : \"08\",\n",
        "      \"Sep\" : \"09\",\n",
        "      \"Oct\" : \"10\",\n",
        "      \"Nov\" : \"11\",\n",
        "      \"Dic\" : \"12\"\n",
        "}[shortMonth]"
      ],
      "execution_count": 73,
      "outputs": []
    },
    {
      "cell_type": "code",
      "metadata": {
        "colab": {
          "base_uri": "https://localhost:8080/"
        },
        "id": "oB5T0X_i9dET",
        "outputId": "e79874a6-acf5-42cb-c6d4-1c64b8eb542b"
      },
      "source": [
        "df_precio_leche = pd.read_csv (r'/content/gdrive/MyDrive/dataspike/precio_leche.csv')\n",
        "df_precio_leche.head()\n",
        "\n",
        "# Using DataFrame.insert() to add a column\n",
        "date_time_obj = datetime.strptime('2000-01-01', '%Y-%m-%d')\n",
        "datecol = [date_time_obj] * df_precio_leche.size\n",
        "df_precio_leche.insert(2, \"date\", date_time_obj, True)\n",
        "\n",
        "for ind in df_precio_leche.index:\n",
        "  datestring = str(df_precio_leche['Anio'][ind])  +\"-\"+ monthToNum(df_precio_leche['Mes'][ind]) + \"-01\"\n",
        "  df_precio_leche['date'][ind] = datestring\n",
        "\n",
        "print(df_precio_leche)\n"
      ],
      "execution_count": 75,
      "outputs": [
        {
          "output_type": "stream",
          "text": [
            "     Anio  Mes        date  Precio_leche\n",
            "0    1979  Ene  1979-01-01          3.85\n",
            "1    1979  Feb  1979-02-01          4.58\n",
            "2    1979  Mar  1979-03-01          5.18\n",
            "3    1979  Abr  1979-04-01          6.06\n",
            "4    1979  May  1979-05-01          7.25\n",
            "..    ...  ...         ...           ...\n",
            "501  2020  Oct  2020-10-01        274.32\n",
            "502  2020  Nov  2020-11-01        288.09\n",
            "503  2020  Dic  2020-12-01        287.29\n",
            "504  2021  Ene  2021-01-01        287.60\n",
            "505  2021  Feb  2021-02-01        295.24\n",
            "\n",
            "[506 rows x 4 columns]\n"
          ],
          "name": "stdout"
        },
        {
          "output_type": "stream",
          "text": [
            "/usr/local/lib/python3.7/dist-packages/ipykernel_launcher.py:11: SettingWithCopyWarning: \n",
            "A value is trying to be set on a copy of a slice from a DataFrame\n",
            "\n",
            "See the caveats in the documentation: https://pandas.pydata.org/pandas-docs/stable/user_guide/indexing.html#returning-a-view-versus-a-copy\n",
            "  # This is added back by InteractiveShellApp.init_path()\n"
          ],
          "name": "stderr"
        }
      ]
    },
    {
      "cell_type": "code",
      "metadata": {
        "colab": {
          "base_uri": "https://localhost:8080/"
        },
        "id": "SuNMrfezpdLx",
        "outputId": "ef790129-eac4-43f0-c151-29f09c1a28d9"
      },
      "source": [
        "valor = df_banco1.loc[df_banco1['Periodo'] == '2008-11-01']\n",
        "\n",
        "#df_banco_2 = df_banco.head(496)\n",
        "#df_precioleche_2 = df_precio_leche.head(496)\n",
        "\n",
        "df_banco_2 = df_banco1\n",
        "df_precioleche_2 = df_precio_leche.head(88)\n",
        "\n",
        "df_banco_2 = df_banco_2.iloc[: , 1:]\n",
        "print(df_banco_2)\n",
        "df_precioleche_2 = df_precioleche_2.iloc[: , 3:]\n",
        "print(df_precioleche_2)\n",
        "\n",
        "for ind in df_precipitaciones_ord.index:\n",
        "  fechabuscar = df_precipitaciones_ord['date'][ind]\n",
        "  valor = df_banco1.loc[df_banco1['Periodo'] == fechabuscar]\n",
        "  valor2 = df_precio_leche.loc[df_precio_leche['date'] == fechabuscar]\n",
        "  if len(valor) != 0 & len(valor2) != 0:\n",
        "    df_banco_2.iloc[ind] = valor.iloc[0]\n",
        "    df_precioleche_2.iloc[ind] = valor2.iloc[0]\n",
        "\n",
        "print(df_banco_2)\n",
        "\n",
        "result = pd.concat([df_precipitaciones_ord,df_banco_2], axis=1)\n",
        "result2 = pd.concat([result,df_precioleche_2], axis=1)\n",
        "print(result2)\n",
        "result2.to_csv(r'/content/gdrive/MyDrive/dataspike/result2.csv')\n"
      ],
      "execution_count": 84,
      "outputs": [
        {
          "output_type": "stream",
          "text": [
            "   Imacec_empalmado  ... Ventas_autos_nuevos\n",
            "0               102  ...             28577.0\n",
            "1               101  ...             32206.0\n",
            "2               101  ...             31589.0\n",
            "3               998  ...             28457.0\n",
            "4               964  ...             31736.0\n",
            "..              ...  ...                 ...\n",
            "83              122  ...             31090.0\n",
            "84              110  ...             32104.0\n",
            "85              106  ...             25025.0\n",
            "86              114  ...             19177.0\n",
            "87              988  ...              8906.0\n",
            "\n",
            "[88 rows x 84 columns]\n",
            "    Precio_leche\n",
            "0           3.85\n",
            "1           4.58\n",
            "2           5.18\n",
            "3           6.06\n",
            "4           7.25\n",
            "..           ...\n",
            "83         15.36\n",
            "84         15.75\n",
            "85         15.96\n",
            "86         18.96\n",
            "87         19.79\n",
            "\n",
            "[88 rows x 1 columns]\n",
            "   Imacec_empalmado  ... Ventas_autos_nuevos\n",
            "0               102  ...             28577.0\n",
            "1               101  ...             32206.0\n",
            "2               101  ...             31589.0\n",
            "3               998  ...             28457.0\n",
            "4               964  ...             31736.0\n",
            "..              ...  ...                 ...\n",
            "83              122  ...             31090.0\n",
            "84              110  ...             32104.0\n",
            "85              106  ...             25025.0\n",
            "86              114  ...             19177.0\n",
            "87              988  ...              8906.0\n",
            "\n",
            "[88 rows x 84 columns]\n",
            "          date   Coquimbo  ...  Ventas_autos_nuevos  Precio_leche\n",
            "0   2013-01-01  10.155732  ...              28577.0          3.85\n",
            "1   2013-02-01   2.662333  ...              32206.0          4.58\n",
            "2   2013-03-01   0.282052  ...              31589.0          5.18\n",
            "3   2013-04-01   0.142111  ...              28457.0          6.06\n",
            "4   2013-05-01  59.775399  ...              31736.0          7.25\n",
            "..         ...        ...  ...                  ...           ...\n",
            "83  2019-12-01   0.287895  ...              31090.0         15.36\n",
            "84  2020-01-01   3.299797  ...              32104.0         15.75\n",
            "85  2020-02-01   0.179216  ...              25025.0         15.96\n",
            "86  2020-03-01   0.003451  ...              19177.0         18.96\n",
            "87  2020-04-01   0.556085  ...               8906.0         19.79\n",
            "\n",
            "[88 rows x 94 columns]\n"
          ],
          "name": "stdout"
        }
      ]
    },
    {
      "cell_type": "markdown",
      "metadata": {
        "id": "X32-FVpnNuPu"
      },
      "source": [
        "Merge datos precio_leche con precipitaciones y banco_central"
      ]
    },
    {
      "cell_type": "code",
      "metadata": {
        "id": "y9DDh-YgNtFn"
      },
      "source": [
        ""
      ],
      "execution_count": null,
      "outputs": []
    },
    {
      "cell_type": "markdown",
      "metadata": {
        "id": "X62cxiccc99R"
      },
      "source": [
        "5. Modelo"
      ]
    },
    {
      "cell_type": "markdown",
      "metadata": {
        "id": "WiJ1-0Nwd8W5"
      },
      "source": [
        "• Entrena un modelo que permita predecir el precio de la leche el próximo mes, en función de los datos entregados. o Si necesitas crear variables adicionales que pueden aportar información al modelo, tienes total libertad. R: Esto esta OK, se puede hacer la predicción con las variables que uno elija de las entregadas.\n",
        "\n",
        "• Construye una base de test (o de cross validation). ¿Cuál fue tu definición de\n",
        "tiempo/cantidad de datos para este set de datos? Explica por qué la elegiste así. R: Esto esta OK, se elije una base de test del 30% por razones practicas.\n",
        "\n",
        "• ¿Qué datos adicionales te gustaría tener?¿Qué datos son necesarios para que este modelo funcione/mejore las métricas?. R: Seria bueno tener otros datos meteorológicos, como temperatura, viento, etc.\n",
        "\n",
        "• ¿Cómo evalúas el resultado del modelo?¿Qué métricas tiene sentido mirar?\n",
        "R: generalmente la precisión se evalua con una metrica como Accuracy.\n",
        "\n",
        "• ¿Para qué aplicaciones puede servir un modelo de este tipo? En particular, ¿Cómo podría ayudar a combatir el cambio climático? - R: Perfectamente un modelo de este tipo puede servir para combatir el cambio climatico, prediciendo los precios en función de las lluvias, se podría planificar la prducción en años poco lluviosos."
      ]
    },
    {
      "cell_type": "code",
      "metadata": {
        "id": "lvaS4f6F-p7p"
      },
      "source": [
        "clfreg = LinearRegression(n_jobs=-1)\n"
      ],
      "execution_count": 85,
      "outputs": []
    },
    {
      "cell_type": "code",
      "metadata": {
        "colab": {
          "base_uri": "https://localhost:8080/"
        },
        "id": "frZ6zuY3zutM",
        "outputId": "7ec59fd9-2059-4d30-b7e9-e7fe61a772f2"
      },
      "source": [
        "X = result2[['Coquimbo',\n",
        "             'Valparaiso',\n",
        "             'Metropolitana_de_Santiago',\n",
        "             'Libertador_Gral__Bernardo_O_Higgins',\n",
        "             'Maule',\n",
        "             'Biobio',\n",
        "             'La_Araucania',\n",
        "             'Los_Rios',\n",
        "             'Imacec_empalmado',\n",
        "             'Imacec_produccion_de_bienes',\n",
        "             'Imacec_minero',\n",
        "             'Imacec_industria',\n",
        "             'Imacec_resto_de_bienes',\n",
        "             'Imacec_comercio',\n",
        "             'Imacec_servicios',\n",
        "             'Imacec_a_costo_de_factores',\n",
        "             'PIB_Agropecuario_silvicola',\n",
        "             'PIB_Pesca',\n",
        "             'PIB_Mineria',\n",
        "             'PIB_Mineria_del_cobre',\n",
        "             'PIB_Otras_actividades_mineras',\n",
        "             'PIB_Industria_Manufacturera']]\n",
        "\n",
        "y = result2[['Precio_leche']]\n",
        "\n",
        "X_train, X_test, y_train, y_test = train_test_split(X, y, test_size=0.33, random_state=42)\n",
        "\n",
        "clfreg = LinearRegression(n_jobs=-1)\n",
        "clfreg.fit(X_train, y_train)\n",
        "clfreg.predict(np.array([[0,0,4,10,50,109,156,234,\n",
        "                          102,10,978,102,114,110,100,103,103,579,570,123,110,131]])) "
      ],
      "execution_count": 96,
      "outputs": [
        {
          "output_type": "execute_result",
          "data": {
            "text/plain": [
              "array([[-0.17815846]])"
            ]
          },
          "metadata": {
            "tags": []
          },
          "execution_count": 96
        }
      ]
    }
  ]
}